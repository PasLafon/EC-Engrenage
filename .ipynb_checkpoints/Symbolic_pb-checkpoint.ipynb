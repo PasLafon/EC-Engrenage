{
 "cells": [
  {
   "cell_type": "code",
   "execution_count": 1,
   "metadata": {},
   "outputs": [
    {
     "data": {
      "text/plain": [
       "[(i*r_2,\n",
       "  r_2,\n",
       "  m,\n",
       "  2.0*i*r_2/m,\n",
       "  2.0*r_2/m,\n",
       "  r_2*(i + 1.0),\n",
       "  C_1/(i*r_2),\n",
       "  sigma,\n",
       "  5.5*C_1/(i*m*r_2*sigma))]"
      ]
     },
     "execution_count": 1,
     "metadata": {},
     "output_type": "execute_result"
    }
   ],
   "source": [
    "from sympy import *\n",
    "i,C1,sigma_Flim = symbols('i C_1 sigma_FLim')\n",
    "r1,r2,m,Z1,Z2,a,T,sigma,b = symbols('r_1 r_2 m Z_1 Z_2 a T sigma b')\n",
    "#donnees = [i,C1,sigma_Flim]\n",
    "inconnues = [r1,r2,m,Z1,Z2,a,T,sigma,b]\n",
    "Eq = [r1+r2 - a,\n",
    "      r1 - m*Z1/2,\n",
    "      r2 - m*Z2/2,\n",
    "      T - C1/r1,\n",
    "      sigma - (5.5*T)/(b*m),\n",
    "      r1 - i*r2]\n",
    "\n",
    "Sol=solve(Eq,inconnues)\n"
   ]
  },
  {
   "cell_type": "markdown",
   "metadata": {},
   "source": []
  }
 ],
 "metadata": {
  "kernelspec": {
   "display_name": "Python 3",
   "language": "python",
   "name": "python3"
  },
  "language_info": {
   "codemirror_mode": {
    "name": "ipython",
    "version": 3
   },
   "file_extension": ".py",
   "mimetype": "text/x-python",
   "name": "python",
   "nbconvert_exporter": "python",
   "pygments_lexer": "ipython3",
   "version": "3.7.7"
  }
 },
 "nbformat": 4,
 "nbformat_minor": 4
}
